{
 "cells": [
  {
   "cell_type": "code",
   "execution_count": 4,
   "metadata": {},
   "outputs": [
    {
     "name": "stdout",
     "output_type": "stream",
     "text": [
      "[2, 4, 6, 8, 10, 12, 14]\n",
      "[4, 16, 36, 64, 100, 144, 196]\n",
      "[0.6666666666666666, 0.6666666666666666, 0.6666666666666666, 0.6666666666666666, 0.6666666666666666, 0.6666666666666666, 0.6666666666666666]\n"
     ]
    }
   ],
   "source": [
    "og_list = [2,4,6,8,10,12,14]\n",
    "print(og_list)\n",
    "new_list = [x ** 2 for x in og_list ]\n",
    "print(new_list)\n",
    "new_list1 = [2/3 for x in og_list]\n",
    "print(new_list1)"
   ]
  },
  {
   "cell_type": "code",
   "execution_count": 2,
   "metadata": {},
   "outputs": [
    {
     "name": "stdout",
     "output_type": "stream",
     "text": [
      "{'Apples': 1500, 'Cranberries': 2000, 'Pears': 2500, 'Cherries': 1600, 'Plums': 2400, 'Peaches': 13600, 'Oranges': 7}\n",
      "{'apples': 1500, 'cranberries': 2000, 'pears': 2500, 'cherries': 1600, 'plums': 2400, 'peaches': 13600, 'oranges': 7}\n"
     ]
    }
   ],
   "source": [
    "dict1 = {\"Apples\" : 1500  , \"Cranberries\" : 2000 , \"Pears\" : 2500 ,\"Cherries\" : 1600 , \"Plums\" :2400 ,\"Peaches\" : 13600 , \"Oranges\" :7}\n",
    "print(dict1)\n",
    "lower_dict1 = {key.lower():value for (key,value) in dict1.items()}\n",
    "print(lower_dict1)"
   ]
  },
  {
   "cell_type": "code",
   "execution_count": null,
   "metadata": {},
   "outputs": [],
   "source": []
  }
 ],
 "metadata": {
  "kernelspec": {
   "display_name": "Python 3",
   "language": "python",
   "name": "python3"
  },
  "language_info": {
   "codemirror_mode": {
    "name": "ipython",
    "version": 3
   },
   "file_extension": ".py",
   "mimetype": "text/x-python",
   "name": "python",
   "nbconvert_exporter": "python",
   "pygments_lexer": "ipython3",
   "version": "3.8.5"
  }
 },
 "nbformat": 4,
 "nbformat_minor": 4
}
